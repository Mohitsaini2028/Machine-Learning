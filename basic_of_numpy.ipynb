{
  "nbformat": 4,
  "nbformat_minor": 0,
  "metadata": {
    "colab": {
      "name": "basic of numpy.ipynb",
      "provenance": [],
      "authorship_tag": "ABX9TyPIlymEvVZpxU7TuWoZLrMH",
      "include_colab_link": true
    },
    "kernelspec": {
      "name": "python3",
      "display_name": "Python 3"
    },
    "language_info": {
      "name": "python"
    }
  },
  "cells": [
    {
      "cell_type": "markdown",
      "metadata": {
        "id": "view-in-github",
        "colab_type": "text"
      },
      "source": [
        "<a href=\"https://colab.research.google.com/github/Mohitsaini2028/Machine-Learning/blob/main/basic_of_numpy.ipynb\" target=\"_parent\"><img src=\"https://colab.research.google.com/assets/colab-badge.svg\" alt=\"Open In Colab\"/></a>"
      ]
    },
    {
      "cell_type": "code",
      "execution_count": 1,
      "metadata": {
        "colab": {
          "base_uri": "https://localhost:8080/"
        },
        "id": "pcK1TTnIuPOf",
        "outputId": "6e4f7b0d-32e7-4280-8574-510cb2f230d8"
      },
      "outputs": [
        {
          "output_type": "execute_result",
          "data": {
            "text/plain": [
              "array([1, 2, 3])"
            ]
          },
          "metadata": {},
          "execution_count": 1
        }
      ],
      "source": [
        "import numpy as np\n",
        " \n",
        "# Creating a rank 1 Array\n",
        "arr = np.array([1, 2, 3])\n",
        "arr"
      ]
    },
    {
      "cell_type": "code",
      "source": [
        "# Creating a rank 2 Array\n",
        "arr2 = np.array([[1, 2, 3],\n",
        "                [4, 5, 6]])\n",
        "arr2"
      ],
      "metadata": {
        "colab": {
          "base_uri": "https://localhost:8080/"
        },
        "id": "xt4suWXguY2N",
        "outputId": "afde798d-b9f8-4251-8667-17a9c62ccc24"
      },
      "execution_count": 4,
      "outputs": [
        {
          "output_type": "execute_result",
          "data": {
            "text/plain": [
              "array([[1, 2, 3],\n",
              "       [4, 5, 6]])"
            ]
          },
          "metadata": {},
          "execution_count": 4
        }
      ]
    },
    {
      "cell_type": "code",
      "source": [
        "arr2.dtype"
      ],
      "metadata": {
        "colab": {
          "base_uri": "https://localhost:8080/"
        },
        "id": "usOYGBdzusEN",
        "outputId": "1c87f4c6-3116-4721-9fd8-d55ac8248c09"
      },
      "execution_count": 5,
      "outputs": [
        {
          "output_type": "execute_result",
          "data": {
            "text/plain": [
              "dtype('int64')"
            ]
          },
          "metadata": {},
          "execution_count": 5
        }
      ]
    },
    {
      "cell_type": "code",
      "source": [
        "# Forced Datatype\n",
        "x = np.array([1, 2], dtype = np.int64) "
      ],
      "metadata": {
        "id": "30k9-7HzuxE6"
      },
      "execution_count": 6,
      "outputs": []
    },
    {
      "cell_type": "markdown",
      "source": [
        "Math Operations on DataType array"
      ],
      "metadata": {
        "id": "-YTs7eCRu0Uy"
      }
    },
    {
      "cell_type": "code",
      "source": [
        "arr1 = np.array([[4, 7], [2, 6]], \n",
        "                 dtype = np.float64)\n",
        "                  \n",
        "# Second Array\n",
        "arr2 = np.array([[3, 6], [2, 8]], \n",
        "                 dtype = np.float64) \n",
        " \n",
        "# Addition of two Arrays\n",
        "Sum = np.add(arr1, arr2)"
      ],
      "metadata": {
        "id": "4rnoTjnpu3WY"
      },
      "execution_count": 7,
      "outputs": []
    },
    {
      "cell_type": "code",
      "source": [
        "# Addition of all Array elements\n",
        "# using predefined sum method\n",
        "Sum1 = np.sum(arr1)"
      ],
      "metadata": {
        "id": "UDvBLmafvCzG"
      },
      "execution_count": 8,
      "outputs": []
    },
    {
      "cell_type": "code",
      "source": [
        "np.any([[True,False],[True,True]])"
      ],
      "metadata": {
        "colab": {
          "base_uri": "https://localhost:8080/"
        },
        "id": "-ITUZNFGwjgi",
        "outputId": "b2dc621e-966a-413c-bc46-12e29d824e20"
      },
      "execution_count": 11,
      "outputs": [
        {
          "output_type": "execute_result",
          "data": {
            "text/plain": [
              "True"
            ]
          },
          "metadata": {},
          "execution_count": 11
        }
      ]
    },
    {
      "cell_type": "code",
      "source": [
        "np.zeros([4, 3],\n",
        "         dtype = np.int32,\n",
        "         order = 'f')"
      ],
      "metadata": {
        "colab": {
          "base_uri": "https://localhost:8080/"
        },
        "id": "0m5n1nKAxRHP",
        "outputId": "88a6d494-e18b-45ae-c180-844fb5680a75"
      },
      "execution_count": 12,
      "outputs": [
        {
          "output_type": "execute_result",
          "data": {
            "text/plain": [
              "array([[0, 0, 0],\n",
              "       [0, 0, 0],\n",
              "       [0, 0, 0],\n",
              "       [0, 0, 0]], dtype=int32)"
            ]
          },
          "metadata": {},
          "execution_count": 12
        }
      ]
    },
    {
      "cell_type": "code",
      "source": [
        "np.ones([4, 3],\n",
        "        dtype = np.int32,\n",
        "        order = 'f')"
      ],
      "metadata": {
        "colab": {
          "base_uri": "https://localhost:8080/"
        },
        "id": "JrPRpi7nxijL",
        "outputId": "800b5217-3946-4a22-f525-c55d1978aab2"
      },
      "execution_count": 13,
      "outputs": [
        {
          "output_type": "execute_result",
          "data": {
            "text/plain": [
              "array([[1, 1, 1],\n",
              "       [1, 1, 1],\n",
              "       [1, 1, 1],\n",
              "       [1, 1, 1]], dtype=int32)"
            ]
          },
          "metadata": {},
          "execution_count": 13
        }
      ]
    },
    {
      "cell_type": "code",
      "source": [
        "np.empty([4, 3],\n",
        "         dtype = np.int32,\n",
        "         order = 'f')"
      ],
      "metadata": {
        "colab": {
          "base_uri": "https://localhost:8080/"
        },
        "id": "cgb7zTH5xiuJ",
        "outputId": "0645674d-5c94-4cff-ce10-97a61152c4db"
      },
      "execution_count": 14,
      "outputs": [
        {
          "output_type": "execute_result",
          "data": {
            "text/plain": [
              "array([[48218032,        0,        0],\n",
              "       [       0,        0,        0],\n",
              "       [       0,        0,        0],\n",
              "       [       0,        0,        0]], dtype=int32)"
            ]
          },
          "metadata": {},
          "execution_count": 14
        }
      ]
    },
    {
      "cell_type": "code",
      "source": [
        "var = \"AmazingWorld\"\n",
        " \n",
        "arr = np.fromiter(var, dtype = 'U2')\n",
        "arr\n",
        " "
      ],
      "metadata": {
        "colab": {
          "base_uri": "https://localhost:8080/"
        },
        "id": "3yfyOr8ryWw_",
        "outputId": "5576d6be-0570-4ce9-b7ee-ec0cfd32a9e7"
      },
      "execution_count": 15,
      "outputs": [
        {
          "output_type": "execute_result",
          "data": {
            "text/plain": [
              "array(['A', 'm', 'a', 'z', 'i', 'n', 'g', 'W', 'o', 'r', 'l', 'd'],\n",
              "      dtype='<U2')"
            ]
          },
          "metadata": {},
          "execution_count": 15
        }
      ]
    }
  ]
}