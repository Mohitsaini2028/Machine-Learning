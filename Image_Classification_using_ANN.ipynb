{
  "nbformat": 4,
  "nbformat_minor": 0,
  "metadata": {
    "colab": {
      "name": "CO CT III Yr- Image_Classification_using_ANN.ipynb",
      "provenance": [],
      "collapsed_sections": []
    },
    "kernelspec": {
      "name": "python3",
      "display_name": "Python 3"
    },
    "language_info": {
      "name": "python"
    },
    "accelerator": "GPU"
  },
  "cells": [
    {
      "cell_type": "markdown",
      "metadata": {
        "id": "JT4a4dwlqhsd"
      },
      "source": [
        "# Joint Online Faculty Development programme on Deep Learning (Parallel Architecture) Aug 23 – Sep 3 , 2021"
      ]
    },
    {
      "cell_type": "markdown",
      "metadata": {
        "id": "XwMdAK1XqmPI"
      },
      "source": [
        "# Tutorial 4: Covid 19 Prediction using Artificial Neural Networks"
      ]
    },
    {
      "cell_type": "markdown",
      "metadata": {
        "id": "y9dbM1bxjvnU"
      },
      "source": [
        "Dataset: [Covid 19 Chest X-ray dataset](https://www.kaggle.com/tawsifurrahman/covid19-radiography-database)\n",
        "\n",
        "\n",
        "A team of researchers from Qatar University, Doha, Qatar, and the University of Dhaka, Bangladesh along with their collaborators from Pakistan and Malaysia in collaboration with medical doctors have created a database of chest X-ray images for COVID-19 positive cases along with Normal and Viral Pneumonia images. This COVID-19, normal, and other lung infection dataset is released in stages. In the first release, we have released 219 COVID-19, 1341 normal, and 1345 viral pneumonia chest X-ray (CXR) images. In the first update, we have increased the COVID-19 class to 1200 CXR images. In the 2nd update, we have increased the database to 3616 COVID-19 positive cases along with 10,192 Normal, 6012 Lung Opacity (Non-COVID lung infection), and 1345 Viral Pneumonia images. We will continue to update this database as soon as we have new x-ray images for COVID-19 pneumonia patients.\n",
        "\n"
      ]
    },
    {
      "cell_type": "markdown",
      "metadata": {
        "id": "9mHnC6nNtBK1"
      },
      "source": [
        "**1. Mount the Google Drive**"
      ]
    },
    {
      "cell_type": "code",
      "metadata": {
        "id": "gORvsC4_s_fY",
        "colab": {
          "base_uri": "https://localhost:8080/"
        },
        "outputId": "ca6dca8c-75f7-4a8a-f45c-82819976d85b"
      },
      "source": [
        "from google.colab import drive\n",
        "drive.mount('/content/drive')"
      ],
      "execution_count": 2,
      "outputs": [
        {
          "output_type": "stream",
          "name": "stdout",
          "text": [
            "Mounted at /content/drive\n"
          ]
        }
      ]
    },
    {
      "cell_type": "markdown",
      "metadata": {
        "id": "wiZOocimtGeu"
      },
      "source": [
        "**2. Move to the place where data resides**"
      ]
    },
    {
      "cell_type": "code",
      "metadata": {
        "id": "EdbGFIkPlah9",
        "outputId": "66024259-89ad-4fc5-d820-94a56ca7b5be",
        "colab": {
          "base_uri": "https://localhost:8080/"
        }
      },
      "source": [
        "%cd /content/drive/MyDrive/24Aug21/"
      ],
      "execution_count": 4,
      "outputs": [
        {
          "output_type": "stream",
          "name": "stdout",
          "text": [
            "/content/drive/MyDrive/24Aug21\n"
          ]
        }
      ]
    },
    {
      "cell_type": "code",
      "metadata": {
        "id": "lqViJFpyjxJZ",
        "colab": {
          "base_uri": "https://localhost:8080/"
        },
        "outputId": "ef53b5e0-93ec-4792-9f68-66aca0bbf68c"
      },
      "source": [
        "!ls"
      ],
      "execution_count": 5,
      "outputs": [
        {
          "output_type": "stream",
          "name": "stdout",
          "text": [
            "covid_dataset.zip  Image_Classification_using_ANN.ipynb\n",
            "diabetes.csv\t   Neural_Network_Classification.ipynb\n"
          ]
        }
      ]
    },
    {
      "cell_type": "markdown",
      "metadata": {
        "id": "0e8v2RY-tKUs"
      },
      "source": [
        "**3. Unziping the dataset**"
      ]
    },
    {
      "cell_type": "code",
      "source": [
        "!pip install unzip"
      ],
      "metadata": {
        "colab": {
          "base_uri": "https://localhost:8080/"
        },
        "id": "PYfX_i50jzOc",
        "outputId": "8c6013f7-6d59-489f-ccd0-9bdf2e1f0b05"
      },
      "execution_count": 6,
      "outputs": [
        {
          "output_type": "stream",
          "name": "stdout",
          "text": [
            "Collecting unzip\n",
            "  Downloading unzip-1.0.0.tar.gz (704 bytes)\n",
            "Building wheels for collected packages: unzip\n",
            "  Building wheel for unzip (setup.py) ... \u001b[?25l\u001b[?25hdone\n",
            "  Created wheel for unzip: filename=unzip-1.0.0-py3-none-any.whl size=1319 sha256=f4c6238c60b110acb77eb25fd554e99471465e86b9ac3c79e6e28b6c324e7a9a\n",
            "  Stored in directory: /root/.cache/pip/wheels/c5/05/b3/f7b36dbaaf76de31b718cde792c953bfd11d2414a72f204b56\n",
            "Successfully built unzip\n",
            "Installing collected packages: unzip\n",
            "Successfully installed unzip-1.0.0\n"
          ]
        }
      ]
    },
    {
      "cell_type": "code",
      "metadata": {
        "id": "kOWDshT6lb8K",
        "colab": {
          "base_uri": "https://localhost:8080/"
        },
        "outputId": "a2de7b64-6442-40de-8adf-7824bf094abb"
      },
      "source": [
        "!unzip covid_dataset.zip"
      ],
      "execution_count": 9,
      "outputs": [
        {
          "output_type": "stream",
          "name": "stdout",
          "text": [
            "Archive:  covid_dataset.zip\n",
            "   creating: covid_dataset/\n",
            "   creating: covid_dataset/COVID/\n",
            "  inflating: covid_dataset/COVID/COVID-1.png  \n",
            "  inflating: covid_dataset/COVID/COVID-10.png  \n",
            "  inflating: covid_dataset/COVID/COVID-11.png  \n",
            "  inflating: covid_dataset/COVID/COVID-12.png  \n",
            "  inflating: covid_dataset/COVID/COVID-13.png  \n",
            "  inflating: covid_dataset/COVID/COVID-14.png  \n",
            "  inflating: covid_dataset/COVID/COVID-15.png  \n",
            "  inflating: covid_dataset/COVID/COVID-16.png  \n",
            "  inflating: covid_dataset/COVID/COVID-17.png  \n",
            "  inflating: covid_dataset/COVID/COVID-18.png  \n",
            "  inflating: covid_dataset/COVID/COVID-19.png  \n",
            "  inflating: covid_dataset/COVID/COVID-2.png  \n",
            "  inflating: covid_dataset/COVID/COVID-20.png  \n",
            "  inflating: covid_dataset/COVID/COVID-21.png  \n",
            "  inflating: covid_dataset/COVID/COVID-22.png  \n",
            "  inflating: covid_dataset/COVID/COVID-23.png  \n",
            "  inflating: covid_dataset/COVID/COVID-24.png  \n",
            "  inflating: covid_dataset/COVID/COVID-25.png  \n",
            "  inflating: covid_dataset/COVID/COVID-26.png  \n",
            "  inflating: covid_dataset/COVID/COVID-27.png  \n",
            "  inflating: covid_dataset/COVID/COVID-28.png  \n",
            "  inflating: covid_dataset/COVID/COVID-29.png  \n",
            "  inflating: covid_dataset/COVID/COVID-3.png  \n",
            "  inflating: covid_dataset/COVID/COVID-30.png  \n",
            "  inflating: covid_dataset/COVID/COVID-31.png  \n",
            "  inflating: covid_dataset/COVID/COVID-32.png  \n",
            "  inflating: covid_dataset/COVID/COVID-33.png  \n",
            "  inflating: covid_dataset/COVID/COVID-34.png  \n",
            "  inflating: covid_dataset/COVID/COVID-35.png  \n",
            "  inflating: covid_dataset/COVID/COVID-36.png  \n",
            "  inflating: covid_dataset/COVID/COVID-37.png  \n",
            "  inflating: covid_dataset/COVID/COVID-38.png  \n",
            "  inflating: covid_dataset/COVID/COVID-39.png  \n",
            "  inflating: covid_dataset/COVID/COVID-4.png  \n",
            "  inflating: covid_dataset/COVID/COVID-40.png  \n",
            "  inflating: covid_dataset/COVID/COVID-41.png  \n",
            "  inflating: covid_dataset/COVID/COVID-42.png  \n",
            "  inflating: covid_dataset/COVID/COVID-43.png  \n",
            "  inflating: covid_dataset/COVID/COVID-44.png  \n",
            "  inflating: covid_dataset/COVID/COVID-45.png  \n",
            "  inflating: covid_dataset/COVID/COVID-46.png  \n",
            "  inflating: covid_dataset/COVID/COVID-47.png  \n",
            "  inflating: covid_dataset/COVID/COVID-48.png  \n",
            "  inflating: covid_dataset/COVID/COVID-49.png  \n",
            "  inflating: covid_dataset/COVID/COVID-5.png  \n",
            "  inflating: covid_dataset/COVID/COVID-50.png  \n",
            "  inflating: covid_dataset/COVID/COVID-6.png  \n",
            "  inflating: covid_dataset/COVID/COVID-7.png  \n",
            "  inflating: covid_dataset/COVID/COVID-8.png  \n",
            "  inflating: covid_dataset/COVID/COVID-9.png  \n",
            "   creating: covid_dataset/Normal/\n",
            "  inflating: covid_dataset/Normal/Normal-1.png  \n",
            "  inflating: covid_dataset/Normal/Normal-10.png  \n",
            "  inflating: covid_dataset/Normal/Normal-11.png  \n",
            "  inflating: covid_dataset/Normal/Normal-12.png  \n",
            "  inflating: covid_dataset/Normal/Normal-13.png  \n",
            "  inflating: covid_dataset/Normal/Normal-14.png  \n",
            "  inflating: covid_dataset/Normal/Normal-15.png  \n",
            "  inflating: covid_dataset/Normal/Normal-16.png  \n",
            "  inflating: covid_dataset/Normal/Normal-17.png  \n",
            "  inflating: covid_dataset/Normal/Normal-18.png  \n",
            "  inflating: covid_dataset/Normal/Normal-19.png  \n",
            "  inflating: covid_dataset/Normal/Normal-2.png  \n",
            "  inflating: covid_dataset/Normal/Normal-20.png  \n",
            "  inflating: covid_dataset/Normal/Normal-21.png  \n",
            "  inflating: covid_dataset/Normal/Normal-22.png  \n",
            "  inflating: covid_dataset/Normal/Normal-23.png  \n",
            "  inflating: covid_dataset/Normal/Normal-24.png  \n",
            "  inflating: covid_dataset/Normal/Normal-25.png  \n",
            "  inflating: covid_dataset/Normal/Normal-26.png  \n",
            "  inflating: covid_dataset/Normal/Normal-27.png  \n",
            "  inflating: covid_dataset/Normal/Normal-28.png  \n",
            "  inflating: covid_dataset/Normal/Normal-29.png  \n",
            "  inflating: covid_dataset/Normal/Normal-3.png  \n",
            "  inflating: covid_dataset/Normal/Normal-30.png  \n",
            "  inflating: covid_dataset/Normal/Normal-31.png  \n",
            "  inflating: covid_dataset/Normal/Normal-32.png  \n",
            "  inflating: covid_dataset/Normal/Normal-33.png  \n",
            "  inflating: covid_dataset/Normal/Normal-34.png  \n",
            "  inflating: covid_dataset/Normal/Normal-35.png  \n",
            "  inflating: covid_dataset/Normal/Normal-36.png  \n",
            "  inflating: covid_dataset/Normal/Normal-37.png  \n",
            "  inflating: covid_dataset/Normal/Normal-38.png  \n",
            "  inflating: covid_dataset/Normal/Normal-39.png  \n",
            "  inflating: covid_dataset/Normal/Normal-4.png  \n",
            "  inflating: covid_dataset/Normal/Normal-40.png  \n",
            "  inflating: covid_dataset/Normal/Normal-41.png  \n",
            "  inflating: covid_dataset/Normal/Normal-42.png  \n",
            "  inflating: covid_dataset/Normal/Normal-43.png  \n",
            "  inflating: covid_dataset/Normal/Normal-44.png  \n",
            "  inflating: covid_dataset/Normal/Normal-45.png  \n",
            "  inflating: covid_dataset/Normal/Normal-46.png  \n",
            "  inflating: covid_dataset/Normal/Normal-47.png  \n",
            "  inflating: covid_dataset/Normal/Normal-48.png  \n",
            "  inflating: covid_dataset/Normal/Normal-49.png  \n",
            "  inflating: covid_dataset/Normal/Normal-5.png  \n",
            "  inflating: covid_dataset/Normal/Normal-50.png  \n",
            "  inflating: covid_dataset/Normal/Normal-6.png  \n",
            "  inflating: covid_dataset/Normal/Normal-7.png  \n",
            "  inflating: covid_dataset/Normal/Normal-8.png  \n",
            "  inflating: covid_dataset/Normal/Normal-9.png  \n",
            "   creating: covid_dataset/Viral Pneumonia/\n",
            "  inflating: covid_dataset/Viral Pneumonia/Viral Pneumonia-1.png  \n",
            "  inflating: covid_dataset/Viral Pneumonia/Viral Pneumonia-10.png  \n",
            "  inflating: covid_dataset/Viral Pneumonia/Viral Pneumonia-11.png  \n",
            "  inflating: covid_dataset/Viral Pneumonia/Viral Pneumonia-12.png  \n",
            "  inflating: covid_dataset/Viral Pneumonia/Viral Pneumonia-13.png  \n",
            "  inflating: covid_dataset/Viral Pneumonia/Viral Pneumonia-14.png  \n",
            "  inflating: covid_dataset/Viral Pneumonia/Viral Pneumonia-15.png  \n",
            "  inflating: covid_dataset/Viral Pneumonia/Viral Pneumonia-16.png  \n",
            "  inflating: covid_dataset/Viral Pneumonia/Viral Pneumonia-17.png  \n",
            "  inflating: covid_dataset/Viral Pneumonia/Viral Pneumonia-18.png  \n",
            "  inflating: covid_dataset/Viral Pneumonia/Viral Pneumonia-19.png  \n",
            "  inflating: covid_dataset/Viral Pneumonia/Viral Pneumonia-2.png  \n",
            "  inflating: covid_dataset/Viral Pneumonia/Viral Pneumonia-20.png  \n",
            "  inflating: covid_dataset/Viral Pneumonia/Viral Pneumonia-21.png  \n",
            "  inflating: covid_dataset/Viral Pneumonia/Viral Pneumonia-22.png  \n",
            "  inflating: covid_dataset/Viral Pneumonia/Viral Pneumonia-23.png  \n",
            "  inflating: covid_dataset/Viral Pneumonia/Viral Pneumonia-24.png  \n",
            "  inflating: covid_dataset/Viral Pneumonia/Viral Pneumonia-25.png  \n",
            "  inflating: covid_dataset/Viral Pneumonia/Viral Pneumonia-26.png  \n",
            "  inflating: covid_dataset/Viral Pneumonia/Viral Pneumonia-27.png  \n",
            "  inflating: covid_dataset/Viral Pneumonia/Viral Pneumonia-28.png  \n",
            "  inflating: covid_dataset/Viral Pneumonia/Viral Pneumonia-29.png  \n",
            "  inflating: covid_dataset/Viral Pneumonia/Viral Pneumonia-3.png  \n",
            "  inflating: covid_dataset/Viral Pneumonia/Viral Pneumonia-30.png  \n",
            "  inflating: covid_dataset/Viral Pneumonia/Viral Pneumonia-31.png  \n",
            "  inflating: covid_dataset/Viral Pneumonia/Viral Pneumonia-32.png  \n",
            "  inflating: covid_dataset/Viral Pneumonia/Viral Pneumonia-33.png  \n",
            "  inflating: covid_dataset/Viral Pneumonia/Viral Pneumonia-34.png  \n",
            "  inflating: covid_dataset/Viral Pneumonia/Viral Pneumonia-35.png  \n",
            "  inflating: covid_dataset/Viral Pneumonia/Viral Pneumonia-36.png  \n",
            "  inflating: covid_dataset/Viral Pneumonia/Viral Pneumonia-37.png  \n",
            "  inflating: covid_dataset/Viral Pneumonia/Viral Pneumonia-38.png  \n",
            "  inflating: covid_dataset/Viral Pneumonia/Viral Pneumonia-39.png  \n",
            "  inflating: covid_dataset/Viral Pneumonia/Viral Pneumonia-4.png  \n",
            "  inflating: covid_dataset/Viral Pneumonia/Viral Pneumonia-40.png  \n",
            "  inflating: covid_dataset/Viral Pneumonia/Viral Pneumonia-41.png  \n",
            "  inflating: covid_dataset/Viral Pneumonia/Viral Pneumonia-42.png  \n",
            "  inflating: covid_dataset/Viral Pneumonia/Viral Pneumonia-43.png  \n",
            "  inflating: covid_dataset/Viral Pneumonia/Viral Pneumonia-44.png  \n",
            "  inflating: covid_dataset/Viral Pneumonia/Viral Pneumonia-45.png  \n",
            "  inflating: covid_dataset/Viral Pneumonia/Viral Pneumonia-46.png  \n",
            "  inflating: covid_dataset/Viral Pneumonia/Viral Pneumonia-47.png  \n",
            "  inflating: covid_dataset/Viral Pneumonia/Viral Pneumonia-48.png  \n",
            "  inflating: covid_dataset/Viral Pneumonia/Viral Pneumonia-49.png  \n",
            "  inflating: covid_dataset/Viral Pneumonia/Viral Pneumonia-5.png  \n",
            "  inflating: covid_dataset/Viral Pneumonia/Viral Pneumonia-50.png  \n",
            "  inflating: covid_dataset/Viral Pneumonia/Viral Pneumonia-6.png  \n",
            "  inflating: covid_dataset/Viral Pneumonia/Viral Pneumonia-7.png  \n",
            "  inflating: covid_dataset/Viral Pneumonia/Viral Pneumonia-8.png  \n",
            "  inflating: covid_dataset/Viral Pneumonia/Viral Pneumonia-9.png  \n"
          ]
        }
      ]
    },
    {
      "cell_type": "markdown",
      "metadata": {
        "id": "xvuRmzA0tNw0"
      },
      "source": [
        "**4. Install split folder python package**\n",
        "\n",
        "https://pypi.org/project/split-folders/"
      ]
    },
    {
      "cell_type": "code",
      "metadata": {
        "id": "r-4b_r2qlenB",
        "colab": {
          "base_uri": "https://localhost:8080/"
        },
        "outputId": "33ae9e98-d78b-492f-a0f1-0cd3d9c24285"
      },
      "source": [
        "!pip install split_folders"
      ],
      "execution_count": 10,
      "outputs": [
        {
          "output_type": "stream",
          "name": "stdout",
          "text": [
            "Requirement already satisfied: split_folders in /usr/local/lib/python3.7/dist-packages (0.5.1)\n"
          ]
        }
      ]
    },
    {
      "cell_type": "markdown",
      "metadata": {
        "id": "yq0KuuUatVi-"
      },
      "source": [
        "**5. Splitting the data in training, testing and validation set**"
      ]
    },
    {
      "cell_type": "code",
      "metadata": {
        "id": "8xXGHVOIlheA",
        "colab": {
          "base_uri": "https://localhost:8080/"
        },
        "outputId": "8e371c16-00c3-4632-c16b-809f59de98c6"
      },
      "source": [
        "import splitfolders\n",
        "splitfolders.ratio(\"covid_dataset\", output=\"split\", seed=1337, ratio=(.8, .1, .1), group_prefix=None)"
      ],
      "execution_count": 13,
      "outputs": [
        {
          "output_type": "stream",
          "name": "stderr",
          "text": [
            "Copying files: 150 files [00:01, 96.04 files/s]\n"
          ]
        }
      ]
    },
    {
      "cell_type": "markdown",
      "metadata": {
        "id": "4_rTBEKCtaTR"
      },
      "source": [
        "**6. Loading the dataset with normalization in batches**"
      ]
    },
    {
      "cell_type": "code",
      "metadata": {
        "id": "4of-TiQPlkCZ",
        "colab": {
          "base_uri": "https://localhost:8080/"
        },
        "outputId": "03db4a80-b769-4c98-b2c0-aef647af99ec"
      },
      "source": [
        "from keras.preprocessing.image import ImageDataGenerator\n",
        "\n",
        "# Normalize training and validation data in the range of 0 to 1\n",
        "train_datagen = ImageDataGenerator(rescale=1./255)\n",
        "validation_datagen = ImageDataGenerator(rescale=1./255)\n",
        "test_datagen = ImageDataGenerator(rescale=1./255)\n",
        "\n",
        "# Read the training sample and set the batch size \n",
        "train_generator = train_datagen.flow_from_directory(\n",
        "        'split/train/',\n",
        "        target_size=(128, 128),\n",
        "        batch_size=8,\n",
        "        seed=100,\n",
        "        class_mode='categorical')\n",
        "\n",
        "# Read Validation data from directory and define target size with batch size\n",
        "validation_generator = validation_datagen.flow_from_directory(\n",
        "        'split/val/',\n",
        "        target_size=(128, 128),\n",
        "        batch_size=8,\n",
        "        class_mode='categorical',\n",
        "        seed=1000,\n",
        "        shuffle=False)\n",
        "\n",
        "test_generator = test_datagen.flow_from_directory(\n",
        "        'split/test/',\n",
        "        target_size=(128, 128),\n",
        "        batch_size=8,\n",
        "        seed=500,\n",
        "        class_mode='categorical',\n",
        "        shuffle=False)"
      ],
      "execution_count": 14,
      "outputs": [
        {
          "output_type": "stream",
          "name": "stdout",
          "text": [
            "Found 120 images belonging to 3 classes.\n",
            "Found 15 images belonging to 3 classes.\n",
            "Found 15 images belonging to 3 classes.\n"
          ]
        }
      ]
    },
    {
      "cell_type": "markdown",
      "metadata": {
        "id": "ZqmlFmyitf8O"
      },
      "source": [
        "**7. Model Building**"
      ]
    },
    {
      "cell_type": "code",
      "metadata": {
        "id": "RrA7f0eKl4tH",
        "colab": {
          "base_uri": "https://localhost:8080/"
        },
        "outputId": "2790cf4f-f6f4-4003-baf4-1b55ad6edd54"
      },
      "source": [
        "from tensorflow import keras\n",
        "from tensorflow.keras import layers\n",
        "inputs = keras.Input(shape=(128, 128,3))\n",
        "x = layers.Flatten()(inputs)\n",
        "x = layers.Dense(32, activation=\"relu\")(x)\n",
        "x = layers.Dense(64, activation='relu')(x)\n",
        "outputs = layers.Dense(3, activation=\"softmax\")(x)\n",
        "model = keras.Model(inputs, outputs)\n",
        "model.summary()"
      ],
      "execution_count": 15,
      "outputs": [
        {
          "output_type": "stream",
          "name": "stdout",
          "text": [
            "Model: \"model\"\n",
            "_________________________________________________________________\n",
            " Layer (type)                Output Shape              Param #   \n",
            "=================================================================\n",
            " input_1 (InputLayer)        [(None, 128, 128, 3)]     0         \n",
            "                                                                 \n",
            " flatten (Flatten)           (None, 49152)             0         \n",
            "                                                                 \n",
            " dense (Dense)               (None, 32)                1572896   \n",
            "                                                                 \n",
            " dense_1 (Dense)             (None, 64)                2112      \n",
            "                                                                 \n",
            " dense_2 (Dense)             (None, 3)                 195       \n",
            "                                                                 \n",
            "=================================================================\n",
            "Total params: 1,575,203\n",
            "Trainable params: 1,575,203\n",
            "Non-trainable params: 0\n",
            "_________________________________________________________________\n"
          ]
        }
      ]
    },
    {
      "cell_type": "markdown",
      "metadata": {
        "id": "_437haxhtjFa"
      },
      "source": [
        "**8. Model Compilation and Training**"
      ]
    },
    {
      "cell_type": "code",
      "metadata": {
        "id": "DixxjVJelrcg",
        "colab": {
          "base_uri": "https://localhost:8080/"
        },
        "outputId": "72e41bd4-284b-47c2-c6fe-e61a853b30f6"
      },
      "source": [
        "from tensorflow.keras.optimizers import Adam\n",
        "\n",
        "adam = Adam(learning_rate=0.0001)\n",
        "# We are going to use accuracy metrics and cross entropy loss as performance parameters\n",
        "model.compile(adam, loss='categorical_crossentropy', metrics=['acc'])\n",
        "# Train the model \n",
        "history = model.fit(train_generator, \n",
        "      steps_per_epoch=train_generator.samples/train_generator.batch_size,\n",
        "      epochs=100,\n",
        "      validation_data=validation_generator,\n",
        "      validation_steps=validation_generator.samples/validation_generator.batch_size,\n",
        "      verbose=1)"
      ],
      "execution_count": 16,
      "outputs": [
        {
          "output_type": "stream",
          "name": "stdout",
          "text": [
            "Epoch 1/100\n",
            "15/15 [==============================] - 3s 58ms/step - loss: 1.1560 - acc: 0.3833 - val_loss: 1.0291 - val_acc: 0.4000\n",
            "Epoch 2/100\n",
            "15/15 [==============================] - 1s 47ms/step - loss: 0.9383 - acc: 0.5333 - val_loss: 0.8211 - val_acc: 0.6667\n",
            "Epoch 3/100\n",
            "15/15 [==============================] - 1s 46ms/step - loss: 0.8184 - acc: 0.6500 - val_loss: 0.6929 - val_acc: 0.6667\n",
            "Epoch 4/100\n",
            "15/15 [==============================] - 1s 46ms/step - loss: 0.6509 - acc: 0.7583 - val_loss: 0.6538 - val_acc: 0.6667\n",
            "Epoch 5/100\n",
            "15/15 [==============================] - 1s 47ms/step - loss: 0.5889 - acc: 0.7250 - val_loss: 0.5355 - val_acc: 0.8667\n",
            "Epoch 6/100\n",
            "15/15 [==============================] - 1s 52ms/step - loss: 0.5327 - acc: 0.8167 - val_loss: 0.7088 - val_acc: 0.6000\n",
            "Epoch 7/100\n",
            "15/15 [==============================] - 1s 46ms/step - loss: 0.5790 - acc: 0.7583 - val_loss: 0.5365 - val_acc: 0.8000\n",
            "Epoch 8/100\n",
            "15/15 [==============================] - 1s 47ms/step - loss: 0.4951 - acc: 0.8167 - val_loss: 0.5030 - val_acc: 0.8667\n",
            "Epoch 9/100\n",
            "15/15 [==============================] - 1s 47ms/step - loss: 0.4890 - acc: 0.7667 - val_loss: 0.4642 - val_acc: 0.8667\n",
            "Epoch 10/100\n",
            "15/15 [==============================] - 1s 46ms/step - loss: 0.5592 - acc: 0.7500 - val_loss: 0.4535 - val_acc: 0.8667\n",
            "Epoch 11/100\n",
            "15/15 [==============================] - 1s 46ms/step - loss: 0.5850 - acc: 0.7417 - val_loss: 0.5513 - val_acc: 0.7333\n",
            "Epoch 12/100\n",
            "15/15 [==============================] - 1s 47ms/step - loss: 0.5374 - acc: 0.7583 - val_loss: 0.4438 - val_acc: 0.9333\n",
            "Epoch 13/100\n",
            "15/15 [==============================] - 1s 48ms/step - loss: 0.4839 - acc: 0.7667 - val_loss: 0.6316 - val_acc: 0.6667\n",
            "Epoch 14/100\n",
            "15/15 [==============================] - 1s 44ms/step - loss: 0.4559 - acc: 0.8333 - val_loss: 0.4419 - val_acc: 0.8000\n",
            "Epoch 15/100\n",
            "15/15 [==============================] - 1s 45ms/step - loss: 0.4248 - acc: 0.7833 - val_loss: 0.4053 - val_acc: 0.8000\n",
            "Epoch 16/100\n",
            "15/15 [==============================] - 1s 47ms/step - loss: 0.3673 - acc: 0.8667 - val_loss: 0.4733 - val_acc: 0.8000\n",
            "Epoch 17/100\n",
            "15/15 [==============================] - 1s 46ms/step - loss: 0.3584 - acc: 0.8583 - val_loss: 0.3991 - val_acc: 0.8000\n",
            "Epoch 18/100\n",
            "15/15 [==============================] - 1s 45ms/step - loss: 0.3712 - acc: 0.8667 - val_loss: 0.3988 - val_acc: 0.8000\n",
            "Epoch 19/100\n",
            "15/15 [==============================] - 1s 46ms/step - loss: 0.3520 - acc: 0.8917 - val_loss: 0.4537 - val_acc: 0.7333\n",
            "Epoch 20/100\n",
            "15/15 [==============================] - 1s 47ms/step - loss: 0.3473 - acc: 0.9083 - val_loss: 0.3843 - val_acc: 0.8000\n",
            "Epoch 21/100\n",
            "15/15 [==============================] - 1s 50ms/step - loss: 0.3738 - acc: 0.8333 - val_loss: 0.3519 - val_acc: 0.9333\n",
            "Epoch 22/100\n",
            "15/15 [==============================] - 1s 52ms/step - loss: 0.3268 - acc: 0.8917 - val_loss: 0.4056 - val_acc: 0.8667\n",
            "Epoch 23/100\n",
            "15/15 [==============================] - 1s 46ms/step - loss: 0.3019 - acc: 0.8917 - val_loss: 0.4098 - val_acc: 0.8000\n",
            "Epoch 24/100\n",
            "15/15 [==============================] - 1s 46ms/step - loss: 0.3157 - acc: 0.8750 - val_loss: 0.3619 - val_acc: 0.8667\n",
            "Epoch 25/100\n",
            "15/15 [==============================] - 1s 46ms/step - loss: 0.2909 - acc: 0.8917 - val_loss: 0.3631 - val_acc: 0.8667\n",
            "Epoch 26/100\n",
            "15/15 [==============================] - 1s 45ms/step - loss: 0.2706 - acc: 0.9167 - val_loss: 0.5025 - val_acc: 0.7333\n",
            "Epoch 27/100\n",
            "15/15 [==============================] - 1s 46ms/step - loss: 0.2619 - acc: 0.8917 - val_loss: 0.4399 - val_acc: 0.8000\n",
            "Epoch 28/100\n",
            "15/15 [==============================] - 1s 46ms/step - loss: 0.2932 - acc: 0.8750 - val_loss: 0.4391 - val_acc: 0.8000\n",
            "Epoch 29/100\n",
            "15/15 [==============================] - 1s 44ms/step - loss: 0.2696 - acc: 0.9250 - val_loss: 0.3421 - val_acc: 0.9333\n",
            "Epoch 30/100\n",
            "15/15 [==============================] - 1s 45ms/step - loss: 0.2472 - acc: 0.9500 - val_loss: 0.4387 - val_acc: 0.8667\n",
            "Epoch 31/100\n",
            "15/15 [==============================] - 1s 45ms/step - loss: 0.2537 - acc: 0.9000 - val_loss: 0.5514 - val_acc: 0.6667\n",
            "Epoch 32/100\n",
            "15/15 [==============================] - 1s 46ms/step - loss: 0.2788 - acc: 0.9000 - val_loss: 0.3548 - val_acc: 0.8667\n",
            "Epoch 33/100\n",
            "15/15 [==============================] - 1s 43ms/step - loss: 0.2177 - acc: 0.9417 - val_loss: 0.4143 - val_acc: 0.8000\n",
            "Epoch 34/100\n",
            "15/15 [==============================] - 1s 45ms/step - loss: 0.2399 - acc: 0.9167 - val_loss: 0.3948 - val_acc: 0.8000\n",
            "Epoch 35/100\n",
            "15/15 [==============================] - 1s 46ms/step - loss: 0.2243 - acc: 0.9500 - val_loss: 0.4102 - val_acc: 0.6667\n",
            "Epoch 36/100\n",
            "15/15 [==============================] - 1s 48ms/step - loss: 0.2260 - acc: 0.9500 - val_loss: 0.3383 - val_acc: 0.8667\n",
            "Epoch 37/100\n",
            "15/15 [==============================] - 1s 46ms/step - loss: 0.2090 - acc: 0.9333 - val_loss: 0.4384 - val_acc: 0.8000\n",
            "Epoch 38/100\n",
            "15/15 [==============================] - 1s 44ms/step - loss: 0.1864 - acc: 0.9583 - val_loss: 0.3975 - val_acc: 0.8667\n",
            "Epoch 39/100\n",
            "15/15 [==============================] - 1s 44ms/step - loss: 0.1836 - acc: 0.9583 - val_loss: 0.3323 - val_acc: 0.8667\n",
            "Epoch 40/100\n",
            "15/15 [==============================] - 1s 46ms/step - loss: 0.1898 - acc: 0.9583 - val_loss: 0.4740 - val_acc: 0.8000\n",
            "Epoch 41/100\n",
            "15/15 [==============================] - 1s 46ms/step - loss: 0.1645 - acc: 0.9750 - val_loss: 0.3753 - val_acc: 0.8000\n",
            "Epoch 42/100\n",
            "15/15 [==============================] - 1s 45ms/step - loss: 0.1666 - acc: 0.9750 - val_loss: 0.4489 - val_acc: 0.7333\n",
            "Epoch 43/100\n",
            "15/15 [==============================] - 1s 47ms/step - loss: 0.1545 - acc: 0.9750 - val_loss: 0.4203 - val_acc: 0.8667\n",
            "Epoch 44/100\n",
            "15/15 [==============================] - 1s 45ms/step - loss: 0.1735 - acc: 0.9667 - val_loss: 0.3327 - val_acc: 0.8667\n",
            "Epoch 45/100\n",
            "15/15 [==============================] - 1s 45ms/step - loss: 0.1626 - acc: 0.9750 - val_loss: 0.4110 - val_acc: 0.8000\n",
            "Epoch 46/100\n",
            "15/15 [==============================] - 1s 46ms/step - loss: 0.1659 - acc: 0.9500 - val_loss: 0.4552 - val_acc: 0.8000\n",
            "Epoch 47/100\n",
            "15/15 [==============================] - 1s 46ms/step - loss: 0.1543 - acc: 0.9583 - val_loss: 0.4216 - val_acc: 0.8667\n",
            "Epoch 48/100\n",
            "15/15 [==============================] - 1s 46ms/step - loss: 0.1414 - acc: 0.9583 - val_loss: 0.3670 - val_acc: 0.8667\n",
            "Epoch 49/100\n",
            "15/15 [==============================] - 1s 46ms/step - loss: 0.1253 - acc: 0.9750 - val_loss: 0.3688 - val_acc: 0.9333\n",
            "Epoch 50/100\n",
            "15/15 [==============================] - 1s 46ms/step - loss: 0.1704 - acc: 0.9583 - val_loss: 0.4643 - val_acc: 0.8000\n",
            "Epoch 51/100\n",
            "15/15 [==============================] - 1s 44ms/step - loss: 0.1430 - acc: 0.9583 - val_loss: 0.6061 - val_acc: 0.6667\n",
            "Epoch 52/100\n",
            "15/15 [==============================] - 1s 45ms/step - loss: 0.2016 - acc: 0.9083 - val_loss: 0.5471 - val_acc: 0.6667\n",
            "Epoch 53/100\n",
            "15/15 [==============================] - 1s 46ms/step - loss: 0.1421 - acc: 0.9583 - val_loss: 0.3244 - val_acc: 0.8667\n",
            "Epoch 54/100\n",
            "15/15 [==============================] - 1s 46ms/step - loss: 0.1232 - acc: 0.9833 - val_loss: 0.3669 - val_acc: 0.8667\n",
            "Epoch 55/100\n",
            "15/15 [==============================] - 1s 47ms/step - loss: 0.1404 - acc: 0.9583 - val_loss: 0.4277 - val_acc: 0.8667\n",
            "Epoch 56/100\n",
            "15/15 [==============================] - 1s 45ms/step - loss: 0.1188 - acc: 0.9667 - val_loss: 0.5169 - val_acc: 0.6667\n",
            "Epoch 57/100\n",
            "15/15 [==============================] - 1s 46ms/step - loss: 0.1202 - acc: 0.9833 - val_loss: 0.4510 - val_acc: 0.8000\n",
            "Epoch 58/100\n",
            "15/15 [==============================] - 1s 46ms/step - loss: 0.1271 - acc: 0.9667 - val_loss: 0.3969 - val_acc: 0.8667\n",
            "Epoch 59/100\n",
            "15/15 [==============================] - 1s 45ms/step - loss: 0.1193 - acc: 0.9583 - val_loss: 0.3565 - val_acc: 0.8667\n",
            "Epoch 60/100\n",
            "15/15 [==============================] - 1s 46ms/step - loss: 0.0885 - acc: 0.9833 - val_loss: 0.4821 - val_acc: 0.7333\n",
            "Epoch 61/100\n",
            "15/15 [==============================] - 1s 45ms/step - loss: 0.0941 - acc: 0.9833 - val_loss: 0.4285 - val_acc: 0.8667\n",
            "Epoch 62/100\n",
            "15/15 [==============================] - 1s 48ms/step - loss: 0.0991 - acc: 0.9833 - val_loss: 0.4206 - val_acc: 0.8667\n",
            "Epoch 63/100\n",
            "15/15 [==============================] - 1s 45ms/step - loss: 0.1263 - acc: 0.9750 - val_loss: 0.3924 - val_acc: 0.8667\n",
            "Epoch 64/100\n",
            "15/15 [==============================] - 1s 47ms/step - loss: 0.0926 - acc: 0.9833 - val_loss: 0.3994 - val_acc: 0.8667\n",
            "Epoch 65/100\n",
            "15/15 [==============================] - 1s 48ms/step - loss: 0.0856 - acc: 0.9917 - val_loss: 0.5073 - val_acc: 0.8000\n",
            "Epoch 66/100\n",
            "15/15 [==============================] - 1s 45ms/step - loss: 0.0904 - acc: 0.9917 - val_loss: 0.6474 - val_acc: 0.6000\n",
            "Epoch 67/100\n",
            "15/15 [==============================] - 1s 46ms/step - loss: 0.1006 - acc: 0.9917 - val_loss: 0.4137 - val_acc: 0.8667\n",
            "Epoch 68/100\n",
            "15/15 [==============================] - 1s 45ms/step - loss: 0.0796 - acc: 0.9833 - val_loss: 0.3561 - val_acc: 0.8667\n",
            "Epoch 69/100\n",
            "15/15 [==============================] - 1s 47ms/step - loss: 0.0999 - acc: 0.9833 - val_loss: 0.4775 - val_acc: 0.8000\n",
            "Epoch 70/100\n",
            "15/15 [==============================] - 1s 46ms/step - loss: 0.0621 - acc: 0.9917 - val_loss: 0.3916 - val_acc: 0.8667\n",
            "Epoch 71/100\n",
            "15/15 [==============================] - 1s 47ms/step - loss: 0.0610 - acc: 1.0000 - val_loss: 0.4358 - val_acc: 0.8667\n",
            "Epoch 72/100\n",
            "15/15 [==============================] - 1s 47ms/step - loss: 0.0669 - acc: 0.9917 - val_loss: 0.4066 - val_acc: 0.8667\n",
            "Epoch 73/100\n",
            "15/15 [==============================] - 1s 47ms/step - loss: 0.0687 - acc: 0.9833 - val_loss: 0.3980 - val_acc: 0.8667\n",
            "Epoch 74/100\n",
            "15/15 [==============================] - 1s 47ms/step - loss: 0.0575 - acc: 1.0000 - val_loss: 0.4202 - val_acc: 0.8667\n",
            "Epoch 75/100\n",
            "15/15 [==============================] - 1s 46ms/step - loss: 0.0555 - acc: 1.0000 - val_loss: 0.3651 - val_acc: 0.8667\n",
            "Epoch 76/100\n",
            "15/15 [==============================] - 1s 46ms/step - loss: 0.0624 - acc: 1.0000 - val_loss: 0.4964 - val_acc: 0.7333\n",
            "Epoch 77/100\n",
            "15/15 [==============================] - 1s 47ms/step - loss: 0.0604 - acc: 0.9917 - val_loss: 0.3677 - val_acc: 0.8000\n",
            "Epoch 78/100\n",
            "15/15 [==============================] - 1s 47ms/step - loss: 0.0632 - acc: 0.9750 - val_loss: 0.3890 - val_acc: 0.6667\n",
            "Epoch 79/100\n",
            "15/15 [==============================] - 1s 48ms/step - loss: 0.0747 - acc: 0.9833 - val_loss: 0.3943 - val_acc: 0.8667\n",
            "Epoch 80/100\n",
            "15/15 [==============================] - 1s 46ms/step - loss: 0.0471 - acc: 1.0000 - val_loss: 0.4645 - val_acc: 0.8000\n",
            "Epoch 81/100\n",
            "15/15 [==============================] - 1s 46ms/step - loss: 0.0478 - acc: 1.0000 - val_loss: 0.4328 - val_acc: 0.8000\n",
            "Epoch 82/100\n",
            "15/15 [==============================] - 1s 47ms/step - loss: 0.0539 - acc: 1.0000 - val_loss: 0.3977 - val_acc: 0.8667\n",
            "Epoch 83/100\n",
            "15/15 [==============================] - 1s 45ms/step - loss: 0.0525 - acc: 1.0000 - val_loss: 0.4700 - val_acc: 0.8667\n",
            "Epoch 84/100\n",
            "15/15 [==============================] - 1s 46ms/step - loss: 0.0579 - acc: 0.9917 - val_loss: 0.4655 - val_acc: 0.8000\n",
            "Epoch 85/100\n",
            "15/15 [==============================] - 1s 46ms/step - loss: 0.0442 - acc: 1.0000 - val_loss: 0.5649 - val_acc: 0.7333\n",
            "Epoch 86/100\n",
            "15/15 [==============================] - 1s 46ms/step - loss: 0.0523 - acc: 0.9917 - val_loss: 0.4313 - val_acc: 0.8667\n",
            "Epoch 87/100\n",
            "15/15 [==============================] - 1s 80ms/step - loss: 0.0457 - acc: 1.0000 - val_loss: 0.5670 - val_acc: 0.7333\n",
            "Epoch 88/100\n",
            "15/15 [==============================] - 1s 47ms/step - loss: 0.0736 - acc: 0.9750 - val_loss: 0.4426 - val_acc: 0.8667\n",
            "Epoch 89/100\n",
            "15/15 [==============================] - 1s 44ms/step - loss: 0.1030 - acc: 0.9667 - val_loss: 0.4995 - val_acc: 0.8000\n",
            "Epoch 90/100\n",
            "15/15 [==============================] - 1s 46ms/step - loss: 0.1024 - acc: 0.9583 - val_loss: 0.6710 - val_acc: 0.6667\n",
            "Epoch 91/100\n",
            "15/15 [==============================] - 1s 47ms/step - loss: 0.0820 - acc: 0.9917 - val_loss: 0.4996 - val_acc: 0.8000\n",
            "Epoch 92/100\n",
            "15/15 [==============================] - 1s 47ms/step - loss: 0.0499 - acc: 0.9917 - val_loss: 0.4135 - val_acc: 0.8000\n",
            "Epoch 93/100\n",
            "15/15 [==============================] - 1s 46ms/step - loss: 0.0396 - acc: 1.0000 - val_loss: 0.4407 - val_acc: 0.8000\n",
            "Epoch 94/100\n",
            "15/15 [==============================] - 1s 47ms/step - loss: 0.0390 - acc: 1.0000 - val_loss: 0.4801 - val_acc: 0.8000\n",
            "Epoch 95/100\n",
            "15/15 [==============================] - 1s 46ms/step - loss: 0.0328 - acc: 1.0000 - val_loss: 0.4751 - val_acc: 0.7333\n",
            "Epoch 96/100\n",
            "15/15 [==============================] - 1s 47ms/step - loss: 0.0351 - acc: 1.0000 - val_loss: 0.5436 - val_acc: 0.8000\n",
            "Epoch 97/100\n",
            "15/15 [==============================] - 1s 46ms/step - loss: 0.0336 - acc: 1.0000 - val_loss: 0.3861 - val_acc: 0.8000\n",
            "Epoch 98/100\n",
            "15/15 [==============================] - 1s 46ms/step - loss: 0.0335 - acc: 1.0000 - val_loss: 0.4680 - val_acc: 0.8000\n",
            "Epoch 99/100\n",
            "15/15 [==============================] - 1s 46ms/step - loss: 0.0342 - acc: 1.0000 - val_loss: 0.4284 - val_acc: 0.8000\n",
            "Epoch 100/100\n",
            "15/15 [==============================] - 1s 46ms/step - loss: 0.0345 - acc: 1.0000 - val_loss: 0.6149 - val_acc: 0.7333\n"
          ]
        }
      ]
    },
    {
      "cell_type": "markdown",
      "metadata": {
        "id": "7h2kqqa0tpx9"
      },
      "source": [
        "**9. Model saving**"
      ]
    },
    {
      "cell_type": "code",
      "metadata": {
        "id": "AMlZWxBhnfjh"
      },
      "source": [
        "model.save('covid_classification.h5')"
      ],
      "execution_count": 17,
      "outputs": []
    },
    {
      "cell_type": "markdown",
      "metadata": {
        "id": "v64VrifGtsSn"
      },
      "source": [
        "**10. Model loading**"
      ]
    },
    {
      "cell_type": "code",
      "metadata": {
        "id": "h5kAXwzBoIzp"
      },
      "source": [
        "from tensorflow.keras import models\n",
        "model = models.load_model('covid_classification.h5')"
      ],
      "execution_count": 18,
      "outputs": []
    },
    {
      "cell_type": "markdown",
      "metadata": {
        "id": "EuGiWfjQtvDq"
      },
      "source": [
        "**11. Model weights saving**"
      ]
    },
    {
      "cell_type": "code",
      "metadata": {
        "id": "brmKRhGtoZVA"
      },
      "source": [
        "model.save_weights('covid_classification_weights.h5')"
      ],
      "execution_count": 19,
      "outputs": []
    },
    {
      "cell_type": "markdown",
      "metadata": {
        "id": "g_mHfakptxUF"
      },
      "source": [
        "**12. Model weights loading**"
      ]
    },
    {
      "cell_type": "code",
      "metadata": {
        "id": "Oc3YG_vioL9a"
      },
      "source": [
        "model.load_weights('covid_classification_weights.h5')"
      ],
      "execution_count": 20,
      "outputs": []
    },
    {
      "cell_type": "markdown",
      "metadata": {
        "id": "YJhgz0AAtzcm"
      },
      "source": [
        "**13. Plotting accuracy and loss graph for training and validation dataset**"
      ]
    },
    {
      "cell_type": "code",
      "metadata": {
        "id": "lKLbBshSocU6"
      },
      "source": [
        "train_acc = history.history['acc']\n",
        "val_acc = history.history['val_acc']\n",
        "train_loss = history.history['loss']\n",
        "val_loss = history.history['val_loss']"
      ],
      "execution_count": 21,
      "outputs": []
    },
    {
      "cell_type": "code",
      "metadata": {
        "id": "BfqOqEpVogvN",
        "colab": {
          "base_uri": "https://localhost:8080/",
          "height": 562
        },
        "outputId": "d927be71-b1c2-4b51-f862-5e562269ce4f"
      },
      "source": [
        "import matplotlib.pyplot as plt\n",
        "epochs = range(len(train_acc)) \n",
        "plt.plot(epochs, train_acc, 'b', label='Training Accuracy')\n",
        "plt.plot(epochs, val_acc, 'r', label='Validation Accuracy')\n",
        "plt.title('Training and Validation Accuracy')\n",
        "plt.legend()\n",
        "plt.figure()\n",
        "plt.show()\n",
        "\n",
        "plt.plot(epochs, train_loss, 'b', label='Training Loss')\n",
        "plt.plot(epochs, val_loss, 'r', label='Validation Loss')\n",
        "plt.title('Training and Validation Loss')\n",
        "plt.legend()\n",
        "plt.show()\n"
      ],
      "execution_count": 22,
      "outputs": [
        {
          "output_type": "display_data",
          "data": {
            "text/plain": [
              "<Figure size 432x288 with 1 Axes>"
            ],
            "image/png": "[encoded data removed]"
          },
          "metadata": {
            "needs_background": "light"
          }
        },
        {
          "output_type": "display_data",
          "data": {
            "text/plain": [
              "<Figure size 432x288 with 0 Axes>"
            ]
          },
          "metadata": {}
        },
        {
          "output_type": "display_data",
          "data": {
            "text/plain": [
              "<Figure size 432x288 with 1 Axes>"
            ],
            "image/png": "[encoded data removed]"
          },
          "metadata": {
            "needs_background": "light"
          }
        }
      ]
    },
    {
      "cell_type": "markdown",
      "metadata": {
        "id": "LoVhONtnt3sq"
      },
      "source": [
        "**14. Evaluate model performance on test dataset**"
      ]
    },
    {
      "cell_type": "code",
      "metadata": {
        "id": "dxXMTffHoiVy",
        "colab": {
          "base_uri": "https://localhost:8080/"
        },
        "outputId": "ca3d58aa-22f0-4d2c-d01f-23c5c7e07b93"
      },
      "source": [
        "test_output= model.evaluate(test_generator, steps=test_generator.samples/test_generator.batch_size, verbose=1)\n",
        "print(test_output)\n",
        "print(model.metrics_names)"
      ],
      "execution_count": 23,
      "outputs": [
        {
          "output_type": "stream",
          "name": "stdout",
          "text": [
            "1/1 [==============================] - 0s 45ms/step - loss: 0.9659 - acc: 0.8667\n",
            "[0.9658747315406799, 0.8666666746139526]\n",
            "['loss', 'acc']\n"
          ]
        }
      ]
    },
    {
      "cell_type": "markdown",
      "metadata": {
        "id": "inzAGua1o1we"
      },
      "source": [
        "References:\n",
        "\n",
        "1. https://pypi.org/project/split-folders/\n",
        "2. https://keras.io/"
      ]
    }
  ]
}